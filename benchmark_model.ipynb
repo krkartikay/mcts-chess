{
 "cells": [
  {
   "cell_type": "code",
   "execution_count": 1,
   "metadata": {},
   "outputs": [],
   "source": [
    "import time\n",
    "import chess\n",
    "import torch\n",
    "from model import ChessModel, get_model\n",
    "from convert import board_to_tensor\n",
    "from train import load_data"
   ]
  },
  {
   "cell_type": "code",
   "execution_count": 2,
   "metadata": {},
   "outputs": [
    {
     "name": "stdout",
     "output_type": "stream",
     "text": [
      "Loading data...\n",
      "Loaded data. Shape: \n",
      "positions : torch.Size([2331, 7, 8, 8])\n",
      "moves     : torch.Size([2331, 4096])\n",
      "values     : torch.Size([2331])\n",
      "Loaded model!\n"
     ]
    }
   ],
   "source": [
    "data = load_data()\n",
    "model = get_model()"
   ]
  },
  {
   "cell_type": "code",
   "execution_count": 3,
   "metadata": {},
   "outputs": [],
   "source": [
    "positions, probs, values = data"
   ]
  },
  {
   "cell_type": "code",
   "execution_count": 4,
   "metadata": {},
   "outputs": [
    {
     "name": "stdout",
     "output_type": "stream",
     "text": [
      "cpu\n",
      "cuda:0\n",
      "Transfer took 0.0005979537963867188 seconds.\n"
     ]
    }
   ],
   "source": [
    "print(positions.device)\n",
    "start = time.time()\n",
    "positions = positions.to('cuda')\n",
    "end = time.time()\n",
    "print(positions.device)\n",
    "print(\"Transfer took\", end-start, \"seconds.\")"
   ]
  },
  {
   "cell_type": "code",
   "execution_count": 34,
   "metadata": {},
   "outputs": [
    {
     "name": "stdout",
     "output_type": "stream",
     "text": [
      "Batch size 1\n",
      "Inference took 0.19612622261047363 seconds.\n",
      "Throughput:  8.413823363812683e-05 seconds per position.\n",
      "Batch size 2\n",
      "Inference took 0.03652310371398926 seconds.\n",
      "Throughput:  1.5668427161728552e-05 seconds per position.\n",
      "Batch size 4\n",
      "Inference took 0.015794038772583008 seconds.\n",
      "Throughput:  6.77564940908752e-06 seconds per position.\n",
      "Batch size 8\n",
      "Inference took 0.01477360725402832 seconds.\n",
      "Throughput:  6.337883849861999e-06 seconds per position.\n",
      "Batch size 16\n",
      "Inference took 0.013971328735351562 seconds.\n",
      "Throughput:  5.993706021171841e-06 seconds per position.\n",
      "Batch size 32\n",
      "Inference took 0.013750791549682617 seconds.\n",
      "Throughput:  5.899095473909317e-06 seconds per position.\n",
      "Batch size 64\n",
      "Inference took 0.01364588737487793 seconds.\n",
      "Throughput:  5.85409153791417e-06 seconds per position.\n",
      "Batch size 128\n",
      "Inference took 0.013627052307128906 seconds.\n",
      "Throughput:  5.846011285769587e-06 seconds per position.\n",
      "Batch size 256\n",
      "Inference took 0.013577699661254883 seconds.\n",
      "Throughput:  5.824838979517324e-06 seconds per position.\n",
      "Batch size 512\n",
      "Inference took 0.01358652114868164 seconds.\n",
      "Throughput:  5.828623401407825e-06 seconds per position.\n",
      "Batch size 1024\n",
      "Inference took 0.013518095016479492 seconds.\n",
      "Throughput:  5.799268561338264e-06 seconds per position.\n",
      "Batch size 2048\n",
      "Inference took 0.013736724853515625 seconds.\n",
      "Throughput:  5.893060855219058e-06 seconds per position.\n",
      "Batch size 4096\n",
      "Inference took 0.013655900955200195 seconds.\n",
      "Throughput:  5.858387368168252e-06 seconds per position.\n"
     ]
    }
   ],
   "source": [
    "for batch_size in [1,2,4,8,16,32,64,128,256,512,1024,2048,4096]:\n",
    "    print(\"Batch size\", batch_size)\n",
    "    start = time.time()\n",
    "    batch_size = 100\n",
    "    for batch in range(0, len(positions), batch_size):\n",
    "        start_batch_idx = batch\n",
    "        end_batch_idx = start_batch_idx + batch_size\n",
    "        positions_batch = positions[start_batch_idx:end_batch_idx]\n",
    "        with torch.no_grad():\n",
    "            result = model(positions_batch)\n",
    "        result[0][0][0].item()\n",
    "    end = time.time()\n",
    "    print(\"Inference took\", end-start, \"seconds.\")\n",
    "    print(\"Throughput: \", (end-start)/len(positions), \"seconds per position.\")"
   ]
  },
  {
   "cell_type": "code",
   "execution_count": 23,
   "metadata": {},
   "outputs": [
    {
     "data": {
      "text/plain": [
       "(8, 6)"
      ]
     },
     "execution_count": 23,
     "metadata": {},
     "output_type": "execute_result"
    }
   ],
   "source": [
    "torch.cuda.get_device_capability()"
   ]
  },
  {
   "cell_type": "code",
   "execution_count": 24,
   "metadata": {},
   "outputs": [
    {
     "data": {
      "text/plain": [
       "'NVIDIA GeForce RTX 3070'"
      ]
     },
     "execution_count": 24,
     "metadata": {},
     "output_type": "execute_result"
    }
   ],
   "source": [
    "torch.cuda.get_device_name()"
   ]
  },
  {
   "cell_type": "code",
   "execution_count": 26,
   "metadata": {},
   "outputs": [
    {
     "data": {
      "text/plain": [
       "_CudaDeviceProperties(name='NVIDIA GeForce RTX 3070', major=8, minor=6, total_memory=8191MB, multi_processor_count=46)"
      ]
     },
     "execution_count": 26,
     "metadata": {},
     "output_type": "execute_result"
    }
   ],
   "source": [
    "torch.cuda.get_device_properties('cuda')"
   ]
  },
  {
   "cell_type": "code",
   "execution_count": null,
   "metadata": {},
   "outputs": [],
   "source": []
  }
 ],
 "metadata": {
  "kernelspec": {
   "display_name": "torch",
   "language": "python",
   "name": "python3"
  },
  "language_info": {
   "codemirror_mode": {
    "name": "ipython",
    "version": 3
   },
   "file_extension": ".py",
   "mimetype": "text/x-python",
   "name": "python",
   "nbconvert_exporter": "python",
   "pygments_lexer": "ipython3",
   "version": "3.11.4"
  }
 },
 "nbformat": 4,
 "nbformat_minor": 2
}
